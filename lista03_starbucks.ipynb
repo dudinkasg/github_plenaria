{
 "cells": [
  {
   "attachments": {},
   "cell_type": "markdown",
   "metadata": {},
   "source": [
    "Ler o arquivo 'starbucks.csv' de forma a ser contruir um dicionário, considerando: \n",
    "  - Cada atributo (definido na 1a linha do arquivo) seja uma das chaves do dicionário\n",
    "  - Armazenar os valores associados a cada chave e tratar o seu tipo\n",
    "  - Realizar algumas verificações e 'visualizações': \n",
    "    - Mostrar as 5 primeiras linhas do arquivo a partir do dicionário\n",
    "    - Mostrar o tipo de dados associado a cada coluna\n",
    "  - Crie uma função que retorne o valor máximo dos valores de um chave e teste para as colunas numéricas do dicionário\n",
    "  \n"
   ]
  },
  {
   "cell_type": "code",
   "execution_count": 1,
   "metadata": {},
   "outputs": [],
   "source": [
    "starbucks_data = ('starbucks.csv')"
   ]
  },
  {
   "attachments": {},
   "cell_type": "markdown",
   "metadata": {},
   "source": [
    "####  - Cada atributo (definido na 1a linha do arquivo) seja uma das chaves do dicionário\n",
    "####  - Armazenar os valores associados a cada chave e tratar o seu tipo\n"
   ]
  },
  {
   "cell_type": "code",
   "execution_count": 2,
   "metadata": {},
   "outputs": [
    {
     "name": "stdout",
     "output_type": "stream",
     "text": [
      "dict_keys(['index', 'item', 'calories', 'fat', 'carb', 'fiber', 'protein', 'type']) \n",
      "\n",
      "\n",
      "{'index': [1, 2, 3, 4, 5, 6, 7, 8, 9, 10, 11, 12, 13, 14, 15, 16, 17, 18, 19, 20, 21, 22, 23, 24, 25, 26, 27, 28, 29, 30, 31, 32, 33, 34, 35, 36, 37, 38, 39, 40, 41, 42, 43, 44, 45, 46, 47, 48, 49, 50, 51, 52, 53, 54, 55, 56, 57, 58, 59, 60, 61, 62, 63, 64, 65, 66, 67, 68, 69, 70, 71, 72, 73, 74, 75, 76, 77], 'item': ['8-Grain Roll', 'Apple Bran Muffin', 'Apple Fritter', 'Banana Nut Loaf', 'Birthday Cake Mini Doughnut', 'Blueberry Oat Bar', 'Blueberry Scone', 'Bountiful Blueberry Muffin', 'Butter Croissant ', 'Cheese Danish', 'Chocolate Chunk Cookie', 'Chocolate Cinnamon Bread', 'Chocolate Croissant', 'Chocolate Old-Fashioned Doughnut', 'Chonga Bagel', 'Cinnamon Chip Scone', 'Cranberry Orange Scone', 'Double Chocolate Brownie', 'Double Fudge Mini Doughnut', 'Everything with Cheese Bagel', 'Ginger Molasses Cookie', 'Iced Lemon Pound Cake', 'Mallorca Sweet Bread', 'Maple Oat Pecan Scone ', 'Marble Pound Cake', 'Marshmallow Dream Bar', 'Morning Bun', 'Multigrain Bagel', 'Old-Fashioned Glazed Doughnut', 'Outrageous Oatmeal Cookie', 'Petite Vanilla Bean Scone', 'Plain Bagel', 'Pumpkin Bread', 'Pumpkin Scone ', 'Raspberry Scone', 'Raspberry Swirl Pound Cake', 'Reduced-Fat Banana Chocolate Chip Coffee Cake', 'Reduced-Fat Cinnamon Swirl Coffee Cake', 'Reduced-Fat Very Berry Coffee Cake ', 'Starbucks Classic Coffee Cake', 'Zucchini Walnut Muffin ', 'Cheese & Fruit', 'Chicken & Hummus', 'Chicken Lettuce Wraps', 'Chipotle Chicken Wraps', 'Protein', 'Salumi & Cheese', 'Sesame Noodles', 'Tuna Salad', 'Apple Pie', 'Birthday Cake Pop', 'Brown Sugar Walnut Tart', 'Cherry Pie', 'Chocolate Creme Whoopie Pie', 'Chocolate Hazelnut Tart', 'Raspberry Truffle Cake Pop', 'Red Velvet Whoopie Pie', 'Tiramisu Cake Pop', 'Bacon & Gouda Artisan Breakfast Sandwich', 'Chicken Sausage Breakfast Wrap', 'Ham & Cheddar Artisan Breakfast Sandwich', 'Sausage & Cheddar Classic Breakfast Sandwich', 'Spinach & Feta Breakfast Wrap', 'Starbucks Perfect Oatmeal', 'Turkey Bacon & White Cheddar Classic Breakfast Sandwich', 'Veggie & Monterey Jack Artisan Breakfast Sandwich', 'Deluxe Fruit Blend', 'Chicken Santa Fe Panini', 'Egg Salad Sandwich ', 'Ham & Swiss Panini', 'Roasted Tomato & Mozzarella Panini', 'Roasted Vegetable Panini', 'Tarragon Chicken Salad Sandwich', 'Turkey & Swiss Sandwich', 'Greek Yogurt Honey Parfait', 'Peach Raspberry Yogurt Parfait', 'Strawberry & Blueberry Yogurt Parfait'], 'calories': [350, 350, 420, 490, 130, 370, 460, 370, 310, 420, 380, 320, 300, 420, 310, 480, 490, 410, 130, 280, 360, 490, 420, 440, 350, 210, 350, 300, 420, 370, 140, 280, 390, 480, 480, 430, 400, 340, 350, 440, 490, 480, 270, 360, 380, 380, 420, 350, 380, 180, 170, 190, 170, 190, 180, 160, 190, 170, 350, 300, 350, 500, 290, 140, 320, 350, 80, 400, 460, 360, 390, 350, 420, 390, 300, 300, 300], 'fat': [8.0, 9.0, 20.0, 19.0, 6.0, 14.0, 22.0, 14.0, 18.0, 25.0, 17.0, 12.0, 17.0, 21.0, 5.0, 18.0, 18.0, 24.0, 7.0, 2.0, 12.0, 23.0, 25.0, 18.0, 13.0, 4.0, 16.0, 3.0, 21.0, 14.0, 5.0, 1.0, 14.0, 17.0, 25.0, 16.0, 8.0, 9.0, 10.0, 19.0, 28.0, 28.0, 8.0, 19.0, 15.0, 19.0, 26.0, 11.0, 21.0, 7.0, 9.0, 12.0, 7.0, 11.0, 10.0, 8.0, 11.0, 9.0, 18.0, 10.0, 16.0, 28.0, 10.0, 2.5, 7.0, 18.0, 0.0, 11.0, 27.0, 9.0, 18.0, 12.0, 13.0, 13.0, 12.0, 4.0, 3.5], 'carb': [67, 64, 59, 75, 17, 47, 61, 55, 32, 39, 51, 53, 34, 57, 52, 70, 73, 46, 16, 56, 58, 67, 42, 59, 54, 43, 45, 60, 57, 56, 21, 59, 61, 78, 59, 69, 80, 62, 59, 63, 52, 39, 29, 32, 35, 37, 22, 50, 25, 27, 22, 24, 24, 23, 23, 24, 21, 22, 30, 33, 31, 41, 33, 25, 43, 30, 20, 47, 37, 43, 44, 48, 46, 36, 44, 57, 60], 'fiber': [5, 7, 0, 4, 0, 5, 2, 0, 0, 0, 2, 3, 2, 2, 3, 3, 2, 3, 0, 2, 0, 0, 0, 3, 0, 0, 2, 6, 0, 3, 0, 2, 2, 2, 3, 0, 4, 2, 4, 0, 2, 6, 6, 4, 6, 5, 3, 6, 5, 0, 0, 0, 0, 0, 0, 0, 0, 0, 0, 5, 0, 0, 6, 4, 3, 0, 2, 2, 5, 2, 3, 4, 6, 2, 0, 3, 3], 'protein': [10, 6, 5, 7, 0, 6, 7, 6, 5, 7, 4, 6, 5, 5, 12, 7, 8, 6, 0, 10, 3, 5, 7, 8, 6, 0, 6, 15, 4, 5, 0, 9, 6, 6, 8, 4, 5, 4, 7, 6, 7, 18, 16, 17, 26, 13, 25, 15, 23, 2, 0, 2, 2, 0, 2, 2, 0, 0, 17, 14, 20, 19, 19, 5, 18, 17, 0, 26, 22, 28, 15, 13, 32, 34, 8, 10, 7], 'type': ['bakery', 'bakery', 'bakery', 'bakery', 'bakery', 'bakery', 'bakery', 'bakery', 'bakery', 'bakery', 'bakery', 'bakery', 'bakery', 'bakery', 'bakery', 'bakery', 'bakery', 'bakery', 'bakery', 'bakery', 'bakery', 'bakery', 'bakery', 'bakery', 'bakery', 'bakery', 'bakery', 'bakery', 'bakery', 'bakery', 'bakery', 'bakery', 'bakery', 'bakery', 'bakery', 'bakery', 'bakery', 'bakery', 'bakery', 'bakery', 'bakery', 'bistro box', 'bistro box', 'bistro box', 'bistro box', 'bistro box', 'bistro box', 'bistro box', 'bistro box', 'petite', 'petite', 'petite', 'petite', 'petite', 'petite', 'petite', 'petite', 'petite', 'hot breakfast', 'hot breakfast', 'hot breakfast', 'hot breakfast', 'hot breakfast', 'hot breakfast', 'hot breakfast', 'hot breakfast', 'salad', 'sandwich', 'sandwich', 'sandwich', 'sandwich', 'sandwich', 'sandwich', 'sandwich', 'parfait', 'parfait', 'parfait']}\n"
     ]
    }
   ],
   "source": [
    "with open(starbucks_data,'r') as reader:\n",
    "    data_keys = []\n",
    "    for word in (reader.readline()).split(','):\n",
    "        # print(word)\n",
    "        word = list(word)\n",
    "        # print(\"\".join(word).isalpha())\n",
    "        while (\"\".join(word)).isalpha() == False:\n",
    "            if \"\".join(word) == '':\n",
    "                word = list('index')\n",
    "            for caractere in word:\n",
    "                if caractere.isalpha() == False:\n",
    "                    word.pop(word.index(caractere))       \n",
    "        data_keys.append(\"\".join(word))\n",
    "\n",
    "    data_values=[]\n",
    "    for lines in reader:\n",
    "        if lines != \"\":\n",
    "            line = []\n",
    "            for word in (lines).split(','):\n",
    "                word = list(word)\n",
    "                while ('\"' in \"\".join(word)):\n",
    "                    for caractere in word:\n",
    "                        if caractere == '\"':\n",
    "                            word.pop(word.index(caractere))\n",
    "                if \"\\n\" in \"\".join(word):\n",
    "                    word = (\"\".join(word)).split('\\n')\n",
    "                    word.pop(word.index(\"\"))\n",
    "                line.append(\"\".join(word))\n",
    "            data_values.append(line)\n",
    "\n",
    "    data_keys_type = {}\n",
    "    for i in range(len(data_keys)):\n",
    "        data_keys_type[i] = 'str'\n",
    "    \n",
    "    for item in range(len(data_values)):\n",
    "        for list_values in data_values[item]:\n",
    "            if (\".\" in list(list_values)) and ((\"\".join(list_values.split(\".\"))).isnumeric() == True):\n",
    "                data_keys_type[data_values[item].index(list_values)] = 'float'\n",
    "            elif list_values.isnumeric()==True and (data_keys_type[data_values[item].index(list_values)] != 'float'):\n",
    "                data_keys_type[data_values[item].index(list_values)] = 'int'\n",
    "\n",
    "           \n",
    "    starbucks_df = {}\n",
    "    for i in data_keys:\n",
    "        starbucks_df[i] = []\n",
    "\n",
    "    for items_index in range(len(data_values)):\n",
    "        for keys_index in range(len(data_keys)):\n",
    "            if data_keys_type[keys_index] == 'str':\n",
    "                starbucks_df[data_keys[keys_index]].append(data_values[items_index][keys_index])\n",
    "            elif data_keys_type[keys_index] == 'int':\n",
    "                starbucks_df[data_keys[keys_index]].append(int(data_values[items_index][keys_index]))\n",
    "            elif data_keys_type[keys_index] == 'float':\n",
    "                starbucks_df[data_keys[keys_index]].append(float(data_values[items_index][keys_index]))\n",
    "    \n",
    "    print(starbucks_df.keys(), \"\\n\\n\")\n",
    "    print(starbucks_df)\n",
    "    "
   ]
  },
  {
   "attachments": {},
   "cell_type": "markdown",
   "metadata": {},
   "source": [
    "####  - Realizar algumas verificações e 'visualizações': "
   ]
  },
  {
   "attachments": {},
   "cell_type": "markdown",
   "metadata": {},
   "source": [
    "        - Mostrar as 5 primeiras linhas do arquivo a partir do dicionário"
   ]
  },
  {
   "cell_type": "code",
   "execution_count": 3,
   "metadata": {},
   "outputs": [
    {
     "name": "stdout",
     "output_type": "stream",
     "text": [
      "Linha 1\n",
      "1 - 8-Grain Roll - 350 - 8.0 - 67 - 5 - 10 - bakery\n",
      "\n",
      "\n",
      "Linha 2\n",
      "2 - Apple Bran Muffin - 350 - 9.0 - 64 - 7 - 6 - bakery\n",
      "\n",
      "\n",
      "Linha 3\n",
      "3 - Apple Fritter - 420 - 20.0 - 59 - 0 - 5 - bakery\n",
      "\n",
      "\n",
      "Linha 4\n",
      "4 - Banana Nut Loaf - 490 - 19.0 - 75 - 4 - 7 - bakery\n",
      "\n",
      "\n",
      "Linha 5\n",
      "5 - Birthday Cake Mini Doughnut - 130 - 6.0 - 17 - 0 - 0 - bakery\n"
     ]
    }
   ],
   "source": [
    "for i in range(5):\n",
    "    print(f\"Linha {i+1}\")\n",
    "    for chave in starbucks_df:\n",
    "        if chave != 'type':\n",
    "            print(starbucks_df[chave][i], end= ' - ')\n",
    "        else:\n",
    "            print(starbucks_df[chave][i])\n",
    "    if i != 4:\n",
    "        print('\\n')"
   ]
  },
  {
   "attachments": {},
   "cell_type": "markdown",
   "metadata": {},
   "source": [
    "        - Mostrar o tipo de dados associado a cada coluna"
   ]
  },
  {
   "cell_type": "code",
   "execution_count": 4,
   "metadata": {},
   "outputs": [
    {
     "name": "stdout",
     "output_type": "stream",
     "text": [
      "index - int\n",
      "item - str\n",
      "calories - int\n",
      "fat - float\n",
      "carb - int\n",
      "fiber - int\n",
      "protein - int\n",
      "type - str\n"
     ]
    }
   ],
   "source": [
    "for chave in data_keys_type:\n",
    "    print(f\"{data_keys[chave]} - {data_keys_type[chave]}\")"
   ]
  },
  {
   "attachments": {},
   "cell_type": "markdown",
   "metadata": {},
   "source": [
    "####  - Crie uma função que retorne o valor máximo dos valores de um chave e teste para as colunas numéricas do dicionário"
   ]
  },
  {
   "cell_type": "code",
   "execution_count": 5,
   "metadata": {},
   "outputs": [],
   "source": [
    "def val_max(data_base,chave):\n",
    "    max_value = (sorted(data_base[chave], reverse=True))[0]\n",
    "    for k in starbucks_df:\n",
    "        if k != data_keys[-1]:\n",
    "            print(k, end= ' - ')\n",
    "        else:\n",
    "            print(k)\n",
    "    for i in range(len(data_base[chave])):\n",
    "        if data_base[chave][i] == max_value:\n",
    "            for chave in starbucks_df:\n",
    "                if chave != 'type':\n",
    "                    print(data_base[chave][i], end= ' - ')\n",
    "                else:\n",
    "                    print(data_base[chave][i])"
   ]
  },
  {
   "cell_type": "code",
   "execution_count": 6,
   "metadata": {},
   "outputs": [
    {
     "name": "stdout",
     "output_type": "stream",
     "text": [
      "Deseja saber os valor máximo de qual coluna:\n",
      "\n",
      "index\n",
      "calories\n",
      "fat\n",
      "carb\n",
      "fiber\n",
      "protein\n",
      "\n",
      "index - item - calories - fat - carb - fiber - protein - type\n",
      "2 - Apple Bran Muffin - 350 - 9.0 - 64 - 7 - 6 - bakery\n"
     ]
    }
   ],
   "source": [
    "print('Deseja saber os valor máximo de qual coluna:\\n')\n",
    "for i in range(len(data_keys)):\n",
    "    if data_keys_type[i] != 'str': #Para não aparecer as opções que forem strings\n",
    "        print(data_keys[i])\n",
    "    \n",
    "print()\n",
    "val_max(starbucks_df,input('Insira o nome da coluna: '))"
   ]
  },
  {
   "cell_type": "code",
   "execution_count": null,
   "metadata": {},
   "outputs": [],
   "source": []
  }
 ],
 "metadata": {
  "kernelspec": {
   "display_name": "base",
   "language": "python",
   "name": "python3"
  },
  "language_info": {
   "codemirror_mode": {
    "name": "ipython",
    "version": 3
   },
   "file_extension": ".py",
   "mimetype": "text/x-python",
   "name": "python",
   "nbconvert_exporter": "python",
   "pygments_lexer": "ipython3",
   "version": "3.9.13"
  },
  "orig_nbformat": 4
 },
 "nbformat": 4,
 "nbformat_minor": 2
}
